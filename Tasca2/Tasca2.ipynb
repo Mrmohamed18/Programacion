{
 "cells": [
  {
   "cell_type": "markdown",
   "id": "29d82859",
   "metadata": {},
   "source": [
    "**Mohamed El Moussaoui 26/10/2025**"
   ]
  },
  {
   "cell_type": "markdown",
   "id": "1bc954f6",
   "metadata": {},
   "source": [
    "# 1-Comparador de números\n",
    "\n",
    "### Entrada: dos números.\n",
    "### Sortida: indicar quin és més gran o si són iguals.\n"
   ]
  },
  {
   "cell_type": "code",
   "execution_count": null,
   "id": "7d13f2e5",
   "metadata": {},
   "outputs": [
    {
     "name": "stdout",
     "output_type": "stream",
     "text": [
      "Comparador de números\n",
      "Escribe el primero numeros : \n",
      "Escribe el segundo numero : \n",
      "son iguals\n"
     ]
    }
   ],
   "source": [
    "print(\"Comparador de números\")\n",
    "\n",
    "comparador=int(input(print(\"Escribe el primero numeros : \")))\n",
    "comparador1=int(input(print(\"Escribe el segundo numero : \")))\n",
    "\n",
    "if comparador > comparador1 :{\n",
    "    print(f\"{comparador}, és més gran que {comparador1}\")\n",
    "}\n",
    "if comparador1 > comparador :{\n",
    "    print(f\"{comparador1}, és més gran que {comparador}\")\n",
    "}\n",
    "else :{\n",
    "    print(\"són iguals\")\n",
    "}"
   ]
  },
  {
   "cell_type": "markdown",
   "id": "060db8d2",
   "metadata": {},
   "source": [
    "# 2-Classificació d’edats\n",
    "\n",
    "### Entrada: edat.\n",
    "### Sortida: “nen”, “adolescent”, “adult” o “jubilat”."
   ]
  },
  {
   "cell_type": "code",
   "execution_count": null,
   "id": "a554b511",
   "metadata": {},
   "outputs": [
    {
     "name": "stdout",
     "output_type": "stream",
     "text": [
      "Escribe tu edat : \n",
      "Niño\n"
     ]
    }
   ],
   "source": [
    "edat = int(input(print(\"Escribe tu edat : \")))\n",
    "\n",
    "if edat >= 0 and edat <=7:\n",
    "    print(\"Nen\")\n",
    "elif edat >= 18 and edat <=30:\n",
    "    print(\"adolescent\")\n",
    "elif edat <= 65:\n",
    "    print(\"adult\")\n",
    "    \n",
    "else :\n",
    "    print(\"Jubilat\")"
   ]
  },
  {
   "cell_type": "markdown",
   "id": "cc550ef0",
   "metadata": {},
   "source": [
    "# 3-Any de traspàs\n",
    "\n",
    "### Comprovar si un any introduït és de traspàs o no."
   ]
  },
  {
   "cell_type": "code",
   "execution_count": null,
   "id": "26f85b61",
   "metadata": {},
   "outputs": [
    {
     "name": "stdout",
     "output_type": "stream",
     "text": [
      "El any No es de traspas.\n"
     ]
    }
   ],
   "source": [
    "any = int(input(\"Introdueix un any: \"))\n",
    "\n",
    "traspas = False\n",
    "\n",
    "if any % 4 == 0:\n",
    "    if any % 100 != 0 or any % 400 == 0:\n",
    "        traspas = True\n",
    "\n",
    "if traspas:\n",
    "    print(f\"L'any {any} és de traspàs \")\n",
    "else:\n",
    "    print(f\"L'any {any} no és de traspàs \")\n"
   ]
  },
  {
   "cell_type": "markdown",
   "id": "c93894bf",
   "metadata": {},
   "source": [
    "# 4-Suma acumulada\n",
    "\n",
    "### Demanar números fins que l’usuari entri 0.\n",
    "### Mostrar la suma total."
   ]
  },
  {
   "cell_type": "code",
   "execution_count": null,
   "id": "69aa6f77",
   "metadata": {},
   "outputs": [],
   "source": [
    "continua = True\n",
    "\n",
    "suma = 0\n",
    "\n",
    "while continua:\n",
    "    numero = int(input('Introduce el numero: '))\n",
    "\n",
    "    if numero != 0:\n",
    "        print('El numero introducido no es 0')\n",
    "        suma += numero\n",
    "        continue\n",
    "    elif numero == 0:\n",
    "        print('Has introducido el numero 0 ')\n",
    "        break\n",
    "print(suma)"
   ]
  },
  {
   "cell_type": "markdown",
   "id": "7018b91b",
   "metadata": {},
   "source": [
    "# 5-Multiplicació mitjançant sumes\n",
    "\n",
    "### Donats dos enters positius, calcular la seva multiplicació sense usar *, només sumes i un bucle."
   ]
  },
  {
   "cell_type": "code",
   "execution_count": 1,
   "id": "4e2688fe",
   "metadata": {},
   "outputs": [
    {
     "name": "stdout",
     "output_type": "stream",
     "text": [
      "20\n"
     ]
    }
   ],
   "source": [
    "n1 = int(input(\"Numero1 1 : \"))\n",
    "n2 = int(input(\"Numero1 2 : \"))\n",
    "resultado = 0\n",
    "\n",
    "for i in range(n2):\n",
    "    resultado +=n1\n",
    "print(resultado)"
   ]
  },
  {
   "cell_type": "markdown",
   "id": "f6fe81f1",
   "metadata": {},
   "source": [
    "# 6-Joc dels intents\n",
    "\n",
    "### L’ordinador genera un número aleatori entre 1 i 20.\n",
    "### L’alumne té 5 intents per encertar-lo"
   ]
  },
  {
   "cell_type": "code",
   "execution_count": null,
   "id": "0c98ed99",
   "metadata": {},
   "outputs": [],
   "source": [
    "import random\n",
    "\n",
    "aleatori = random.randint(1, 20)\n",
    "intents = 5  \n",
    "\n",
    "for i in range(intents):\n",
    "    print('Intents Restants :', intents - i)\n",
    "    numero = int(input('Quin és el número? Endevina-ho!: '))\n",
    "    \n",
    "    if numero == aleatori:\n",
    "        print('Has endevinat el número! en', i + 1, 'intents')\n",
    "        break\n",
    "    else:\n",
    "        print('No és el número.')\n",
    "else:\n",
    "    print(f\"No has encertat. El número correcte era {aleatori}.\")\n"
   ]
  },
  {
   "cell_type": "markdown",
   "id": "10c8231f",
   "metadata": {},
   "source": [
    "# 7\n",
    "\n",
    "### Mutable: Permeten ser modificats un cop creats.\n",
    "### Inmutable: No permeten ser modificats un cop creats."
   ]
  },
  {
   "cell_type": "code",
   "execution_count": null,
   "id": "c22cbf89",
   "metadata": {},
   "outputs": [
    {
     "name": "stdout",
     "output_type": "stream",
     "text": [
      "Mohamed Elmoussaoui\n"
     ]
    }
   ],
   "source": [
    "# Inmutable\n",
    "nombre = \"Mohamed\"\n",
    "nombre = nombre + \" Elmoussaoui\" \n",
    "print(nombre) \n"
   ]
  },
  {
   "cell_type": "code",
   "execution_count": 1,
   "id": "ffb9390a",
   "metadata": {},
   "outputs": [
    {
     "name": "stdout",
     "output_type": "stream",
     "text": [
      "['Mohamed', 'Elmoussaoui', 'moha']\n"
     ]
    }
   ],
   "source": [
    "# Mutable\n",
    "nombres = [\"Mohamed\", \"Elmoussaoui\"]\n",
    "nombres.append(\"moha\")  \n",
    "print(nombres)  "
   ]
  },
  {
   "cell_type": "markdown",
   "id": "59469a9a",
   "metadata": {},
   "source": [
    "# 8-Mitjana de notes\n",
    "\n",
    "### Demanar 5 notes, guardar-les en una llista i calcular la mitjana."
   ]
  },
  {
   "cell_type": "code",
   "execution_count": null,
   "id": "739884ce",
   "metadata": {},
   "outputs": [],
   "source": [
    "num_notes = 5\n",
    "suma_notes = 0\n",
    "llista_notes = []\n",
    "\n",
    "for i in range(num_notes):\n",
    "    nota = float(input('Introdueix la nota (ex: 5): '))\n",
    "    llista_notes.append(nota)\n",
    "\n",
    "for n in llista_notes:\n",
    "    suma_notes += n\n",
    "\n",
    "nota_final = suma_notes / num_notes\n",
    "print(\"La nota final és:\", nota_final)\n"
   ]
  },
  {
   "cell_type": "markdown",
   "id": "f222e84e",
   "metadata": {},
   "source": [
    "# 9-Paraules prohibides\n",
    "\n",
    "### Demanar un text i comprovar quantes vegades apareix una paraula “prohibida” (ex. “spoiler”)."
   ]
  },
  {
   "cell_type": "code",
   "execution_count": null,
   "id": "00e13b5b",
   "metadata": {},
   "outputs": [],
   "source": [
    "text = input(\"Escribe un text: \")\n",
    "\n",
    "paraules_prohibides = [\"spoiler\", \"domingo\"]\n",
    "contador = 0\n",
    "paraules_detectades = []\n",
    "\n",
    "for paraula in paraules_prohibides:\n",
    "    if paraula in text:\n",
    "        contador += 1\n",
    "        paraules_detectades.append(paraula)\n",
    "\n",
    "print(\"Paraula detectada.\")\n",
    "print(\"Nombre de paraules detectades:\", contador)\n",
    "print(\"Paraules:\", paraules_detectades)\n"
   ]
  },
  {
   "cell_type": "markdown",
   "id": "bd6b44b4",
   "metadata": {},
   "source": [
    "# 10-Agenda telefònica\n",
    "\n",
    "### Diccionari amb nom: telèfon.\n",
    "### Afegir nous contactes i cercar telèfons."
   ]
  },
  {
   "cell_type": "code",
   "execution_count": null,
   "id": "52d61000",
   "metadata": {},
   "outputs": [],
   "source": [
    "diccionario = {}\n",
    "\n",
    "while True:\n",
    "    opció = str(input(\"Que vols fe? (buscar/añadir) : \").lower())\n",
    "    if opció == \"a\":\n",
    "        nom = input(\"Escribe el nombre de la persona : \")\n",
    "        num = input(\"Escribe el numero de la persona : \")\n",
    "\n",
    "        diccionario[nom] = num\n",
    "\n",
    "    elif opció == \"b\":\n",
    "        buscar_nom = input(\" Como se llama la persona? : \")\n",
    "        encontrado = False\n",
    "\n",
    "        for k, v in diccionario.items():\n",
    "            if buscar_nom.lower() in k.lower():\n",
    "                print(f'{k}: {v}')\n",
    "                encontrado = True\n",
    "\n",
    "        if encontrado == False:\n",
    "            print('No se ha encontrado la persona.')\n",
    "    else:\n",
    "        print('Opcio no valida. Escribe \"buscar\" o \"añadir\".')"
   ]
  },
  {
   "cell_type": "markdown",
   "id": "9d6138fe",
   "metadata": {},
   "source": [
    "# 11-Conversor de monedes\n",
    "\n",
    "### Funció que converteixi d’euros a dòlars i al revés"
   ]
  },
  {
   "cell_type": "code",
   "execution_count": null,
   "id": "0114106e",
   "metadata": {},
   "outputs": [],
   "source": [
    "def euros_a_dolars(numero):\n",
    "    if canviar == numero:\n",
    "        euros = float(input('introdueix els euros a convertir: '))\n",
    "        dolars = euros * 1.16\n",
    "        print(f'la quantitat convertida a dòlars és: {dolars}')\n",
    "    else:\n",
    "        print('no es pot realitzar aquesta operació.')\n",
    "\n",
    "def dolars_a_euros(numero):\n",
    "    if canviar == numero:\n",
    "        dolars = float(input('introdueix els dòlars a convertir: '))\n",
    "        euros = dolars * 0.86\n",
    "        print(f'la quantitat convertida a euros és: {euros}')\n",
    "    else:\n",
    "        print('no es pot realitzar aquesta operació.')\n",
    "\n",
    "print('conversió d\\'euros a dòlars: (1)')\n",
    "print('conversió de dòlars a euros: (2)')\n",
    "canviar = int(input('tria l\\'opció de conversió (1 o 2): '))\n",
    "\n",
    "dolars_a_euros(canviar)\n",
    "euros_a_dolars(canviar)\n"
   ]
  },
  {
   "cell_type": "markdown",
   "id": "30d2703d",
   "metadata": {},
   "source": [
    "# 12-Nombre primer\n",
    "\n",
    "### Funció que comprovi si un número és primer."
   ]
  },
  {
   "cell_type": "code",
   "execution_count": null,
   "id": "2a7fe5ca",
   "metadata": {},
   "outputs": [],
   "source": [
    "def primer(n):\n",
    "    if n <= 1:\n",
    "        return False\n",
    "    \n",
    "    for i in range(2, n):\n",
    "        if n % i == 0:\n",
    "            return False\n",
    "    return True\n",
    "\n",
    "numero = int(input(\"Introdueix un número: \"))\n",
    "\n",
    "if primer(numero):\n",
    "    print(f\"{numero} és un número primer \")\n",
    "else:\n",
    "    print(f\"{numero} no és un número primer \")\n"
   ]
  },
  {
   "cell_type": "markdown",
   "id": "4e62c62c",
   "metadata": {},
   "source": [
    "# 13-Calculadora modular\n",
    "\n",
    "### Funcions separades per sumar, restar, multiplicar i dividir."
   ]
  },
  {
   "cell_type": "code",
   "execution_count": null,
   "id": "dc373ee6",
   "metadata": {},
   "outputs": [],
   "source": [
    "def multiplicar(a, b):\n",
    "    return a * b\n",
    "\n",
    "def dividir(a, b):\n",
    "    return a / b\n",
    "\n",
    "def restar(a, b):\n",
    "    return a - b\n",
    "\n",
    "def sumar(a, b):\n",
    "    return a + b\n",
    "\n",
    "num1 = int(input(\"Introdueix el primer número: \"))\n",
    "num2 = int(input(\"Introdueix el segon número: \"))\n",
    "operador = input(\"Selecciona l'operació ( * , / , - , +) : \")\n",
    "\n",
    "if operador == '*':\n",
    "    resultat = multiplicar(num1, num2)\n",
    "    print(\"Resultat:\", resultat)\n",
    "\n",
    "elif operador == '/':\n",
    "    if num2 != 0:\n",
    "        resultat = dividir(num1, num2)\n",
    "        print(\"Resultat:\", resultat)\n",
    "    else:\n",
    "        print(\"Error!!! No es pot dividir entre zero.\")\n",
    "\n",
    "elif operador == '-':\n",
    "    resultat = restar(num1, num2)\n",
    "    print(\"Resultat:\", resultat)\n",
    "\n",
    "elif operador == '+':\n",
    "    resultat = sumar(num1, num2)\n",
    "    print(\"Resultat:\", resultat)\n",
    "\n",
    "else:\n",
    "    print(\"Operació no vàlida.\")\n"
   ]
  },
  {
   "cell_type": "markdown",
   "id": "c097e85b",
   "metadata": {},
   "source": [
    "# 14-Palíndroms\n",
    "\n",
    "### Funció que comprovi si una paraula o frase és palíndrom"
   ]
  },
  {
   "cell_type": "code",
   "execution_count": null,
   "id": "11f2ff05",
   "metadata": {},
   "outputs": [],
   "source": [
    "def Palíndroms(text):\n",
    "    text = text.lower()\n",
    "    text = text.replace(\" \", \"\")\n",
    "    return text == text[::-1]\n",
    "\n",
    "frase = input(\"Escriu una paraula o frase: \")\n",
    "\n",
    "if Palíndroms(frase):\n",
    "    print(\"És un palíndrom ✅\")\n",
    "else:\n",
    "    print(\"No és un palíndrom ❌\")\n"
   ]
  },
  {
   "cell_type": "markdown",
   "id": "6d3376b3",
   "metadata": {},
   "source": [
    "# 15-Triangular nombres\n",
    "\n",
    "### Donat un enter, mostrar la piràmide de números"
   ]
  },
  {
   "cell_type": "code",
   "execution_count": null,
   "id": "6dac8fa3",
   "metadata": {},
   "outputs": [],
   "source": [
    "def piràmide(n):\n",
    "    for i in range(1, n + 1):\n",
    "        for j in range(1, i + 1):\n",
    "            print(j, end=\" \")\n",
    "        print()\n",
    "\n",
    "piràmide(15)"
   ]
  },
  {
   "cell_type": "markdown",
   "id": "3cb9dadc",
   "metadata": {},
   "source": [
    "# 16-Comptador de vocals\n",
    "\n",
    "### Donar un text i retornar un diccionari amb la freqüència de cada vocal."
   ]
  },
  {
   "cell_type": "code",
   "execution_count": null,
   "id": "ab8a0cf5",
   "metadata": {},
   "outputs": [],
   "source": [
    "def comptar_vocals(text):\n",
    "    vocals = \"aaaaooooeee\" \n",
    "    comptador = {}\n",
    "\n",
    "    for lletra in text.lower():\n",
    "        if lletra in vocals:\n",
    "            if lletra in comptador:\n",
    "                comptador[lletra] += 1\n",
    "            else:\n",
    "                comptador[lletra] = 1\n",
    "\n",
    "    return comptador\n",
    "\n",
    "text = \"Hola avui fa sol\"\n",
    "resultat = comptar_vocals(text)\n",
    "print(\"Nombre de vocals per cada lletra:\", resultat)"
   ]
  },
  {
   "cell_type": "markdown",
   "id": "ae98672b",
   "metadata": {},
   "source": [
    "# 17-Classe Alumne\n",
    "\n",
    "### Atributs: nom, edat, nota.\n",
    "### Mètode: comprovar si aprova."
   ]
  },
  {
   "cell_type": "code",
   "execution_count": null,
   "id": "b1d3a5b9",
   "metadata": {},
   "outputs": [],
   "source": [
    "class Alumne:\n",
    "    def __init__(self, nom, edat, nota):\n",
    "        self.nom = nom\n",
    "        self.edat = edat\n",
    "        self.nota = nota\n",
    "\n",
    "    def comprovar_nota(self):\n",
    "        if self.nota >= 5:\n",
    "            print(f\"{self.nom} ha aprovat \")\n",
    "        else:\n",
    "            print(f\"{self.nom} ha suspès \")\n",
    "\n",
    "\n",
    "\n",
    "alumne1 = Alumne(\"Mohamed\", 19, 8)\n",
    "alumne1.comprovar_nota()\n"
   ]
  },
  {
   "cell_type": "markdown",
   "id": "681bd46d",
   "metadata": {},
   "source": [
    "# 18-Classe Compte Bancari\n",
    "\n",
    "### Atributs: titular, saldo.\n",
    "### Mètodes: ingressar, retirar, mostrar saldo."
   ]
  },
  {
   "cell_type": "code",
   "execution_count": null,
   "id": "31e06a43",
   "metadata": {},
   "outputs": [],
   "source": [
    "class Compte_Bancari:\n",
    "    def __init__(self, titular, saldo):\n",
    "        self.titular = titular\n",
    "        self.saldo = saldo\n",
    "\n",
    "    def ingressar(self, quantitat):\n",
    "        self.saldo += quantitat\n",
    "        print(f\"Has ingressat {quantitat}€. Saldo actual: {self.saldo}€\")\n",
    "\n",
    "    def retirar(self, quantitat):\n",
    "        if quantitat <= self.saldo:\n",
    "            self.saldo -= quantitat\n",
    "            print(f\"Has retirat {quantitat}€. Saldo actual: {self.saldo}€\")\n",
    "        else:\n",
    "            print(\"No tens prou diners al compte.\")\n",
    "\n",
    "    def mostrar(self):\n",
    "        print(f\"Titular: {self.titular} | Saldo disponible: {self.saldo}€\")\n",
    "\n",
    "\n",
    "titular_compte = Compte_Bancari(\"Mohamed\", 19)\n",
    "\n",
    "while True:\n",
    "    operador = input(\"i = ingressar / r = retirar / v = veure saldo / e = sortir: \").lower()\n",
    "    if operador == \"i\":\n",
    "        quantitat_ingressar = float(input(\"Quina quantitat vols ingressar? : \"))\n",
    "        titular_compte.ingressar(quantitat_ingressar)\n",
    "\n",
    "    elif operador == \"r\":\n",
    "        quantitat_retirar = float(input(\"Quina quantitat vols retirar? : \"))\n",
    "        titular_compte.retirar(quantitat_retirar)\n",
    "\n",
    "    elif operador == \"v\":\n",
    "        titular_compte.mostrar()\n",
    "\n",
    "    elif operador == \"e\":\n",
    "        print(\"Sortint del compte\")\n",
    "        break\n",
    "\n",
    "    else:\n",
    "        print(\"Opció incorrecta, prova-ho de nou.\")\n"
   ]
  },
  {
   "cell_type": "markdown",
   "id": "6560a97f",
   "metadata": {},
   "source": [
    "# 19-Classe Cotxe\n",
    "\n",
    "### Atributs: marca, model, velocitat.\n",
    "### Mètodes: accelerar, frenar, mostrar estat."
   ]
  },
  {
   "cell_type": "code",
   "execution_count": null,
   "id": "a18e3e8d",
   "metadata": {},
   "outputs": [],
   "source": [
    "class Cotxe:\n",
    "    def __init__(self, marca, model, velocitat):\n",
    "        self.marca = marca\n",
    "        self.model = model\n",
    "        self.velocitat = velocitat\n",
    "\n",
    "    def accelerar(self, cantidad):\n",
    "        self.velocitat += cantidad\n",
    "        print(f\"El cotxe ha augmentat {cantidad} km/h. Ara va a {self.velocitat} km/h.\")\n",
    "\n",
    "    def frenar(self, cantidad):\n",
    "        if cantidad >= self.velocitat:\n",
    "            self.velocitat = 0\n",
    "            print(\"El cotxe s'ha aturat completament.\")\n",
    "        else:\n",
    "            self.velocitat -= cantidad\n",
    "            print(f\"Has reduït la velocitat en {cantidad} km/h. Velocitat actual: {self.velocitat} km/h.\")\n",
    "\n",
    "    def mostrar_estado(self):\n",
    "        print(f\"Marca: {self.marca} | Model: {self.model} | Velocitat actual: {self.velocitat} km/h\")\n",
    "\n",
    "un_cotxe = Cotxe(\"BMW\", \"M5\", 320)\n",
    "\n",
    "print(\"Opcions : a = accelerar / f = frenar / e = estat / b = sortir\")\n",
    "while True:\n",
    "    operador = input(\"Escull una opció : \").lower()\n",
    "    if operador == \"a\":\n",
    "        cantidad = float(input(\"Quant vols accelerar (km/h)? : \"))\n",
    "        un_cotxe.accelerar(cantidad)\n",
    "\n",
    "    elif operador == \"f\":\n",
    "        cantidad = float(input(\"Quant vols frenar (km/h)? : \"))\n",
    "        un_cotxe.frenar(cantidad)\n",
    "\n",
    "    elif operador == \"e\":\n",
    "        un_cotxe.mostrar_estado()\n",
    "\n",
    "    elif operador == \"b\":\n",
    "        print(\"Tancant el programa\")\n",
    "        break\n",
    "\n",
    "    else:\n",
    "        print(\"Opció incorrecta, torna-ho a provar.\")"
   ]
  },
  {
   "cell_type": "markdown",
   "id": "91c76b33",
   "metadata": {},
   "source": [
    "# 20-Classe Biblioteca\n",
    "\n",
    "### o Classe Llibre (títol, autor, disponible).\n",
    "### o Classe Biblioteca amb mètodes per afegir llibres, prestar i retornar."
   ]
  },
  {
   "cell_type": "code",
   "execution_count": null,
   "id": "fae77c98",
   "metadata": {},
   "outputs": [],
   "source": [
    "class Llibre:\n",
    "    def __init__(self, titol, autor):\n",
    "        self.titol = titol\n",
    "        self.autor = autor\n",
    "        self.disponible = True\n",
    "\n",
    "class Biblioteca:\n",
    "    def __init__(self):\n",
    "        self.llibres = []\n",
    "\n",
    "    def afegir(self, titol, autor):\n",
    "        llibre = Llibre(titol, autor)\n",
    "        self.llibres.append(llibre)\n",
    "        print(f\"Llibre afegit correctament: '{titol}' de {autor}\")\n",
    "\n",
    "    def prestar(self, titol):\n",
    "        for llibre in self.llibres:\n",
    "            if llibre.titol == titol and llibre.disponible:\n",
    "                llibre.disponible = False\n",
    "                print(f\"Has prestat el llibre: '{titol}'\")\n",
    "                return\n",
    "        print(\"Aquest llibre no està disponible o no existeix.\")\n",
    "\n",
    "    def retornar(self, titol):\n",
    "        for llibre in self.llibres:\n",
    "            if llibre.titol.lower() == titol.lower() and not llibre.disponible:\n",
    "                llibre.disponible = True\n",
    "                print(f\"Has tornat el llibre: '{titol}'\")\n",
    "                return\n",
    "        print(\"No s'ha trobat aquest llibre o ja estava disponible.\")\n",
    "\n",
    "    def mostrar(self):\n",
    "        print(\"\\nCatàleg actual de la biblioteca:\")\n",
    "        if not self.llibres:\n",
    "            print(\"Encara no hi ha llibres afegits.\")\n",
    "        else:\n",
    "            for llibre in self.llibres:\n",
    "                estat = \"Disponible\" if llibre.disponible else \"En préstec\"\n",
    "                print(f\"- {llibre.titol} — {llibre.autor} [{estat}]\")\n",
    "\n",
    "biblio = Biblioteca()\n",
    "\n",
    "print(\"Opcions: a = afegir / p = prestar / r = retornar / v = mostrar / e = sortir\")\n",
    "while True:\n",
    "    accio = input(\"Escull una opció: \").lower()\n",
    "    if accio == \"a\":\n",
    "        titol = input(\"Títol del llibre: \")\n",
    "        autor = input(\"Autor: \")\n",
    "        biblio.afegir(titol, autor)\n",
    "\n",
    "    elif accio == \"p\":\n",
    "        titol = input(\"Títol a prestar: \")\n",
    "        biblio.prestar(titol)\n",
    "\n",
    "    elif accio == \"r\":\n",
    "        titol = input(\"Títol a retornar: \")\n",
    "        biblio.retornar(titol)\n",
    "\n",
    "    elif accio == \"v\":\n",
    "        biblio.mostrar()\n",
    "\n",
    "    elif accio == \"e\":\n",
    "        print(\"Programa finalitzat \")\n",
    "        break\n",
    "\n",
    "    else:\n",
    "        print(\"Opció incorrecta. Torna-ho a provar.\")\n"
   ]
  }
 ],
 "metadata": {
  "kernelspec": {
   "display_name": "Python 3",
   "language": "python",
   "name": "python3"
  },
  "language_info": {
   "codemirror_mode": {
    "name": "ipython",
    "version": 3
   },
   "file_extension": ".py",
   "mimetype": "text/x-python",
   "name": "python",
   "nbconvert_exporter": "python",
   "pygments_lexer": "ipython3",
   "version": "3.12.6"
  }
 },
 "nbformat": 4,
 "nbformat_minor": 5
}
