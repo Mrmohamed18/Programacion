{
 "cells": [
  {
   "cell_type": "markdown",
   "id": "ba22b435",
   "metadata": {},
   "source": [
    "# Prova\n",
    "\n"
   ]
  },
  {
   "cell_type": "markdown",
   "id": "6c199ff5",
   "metadata": {},
   "source": [
    "# TASCA\n"
   ]
  },
  {
   "cell_type": "markdown",
   "id": "c63629a3",
   "metadata": {},
   "source": [
    "# Tasca\n",
    "\n",
    "## Github link: https://github.com/Mrmohamed18/Programacion.git"
   ]
  },
  {
   "cell_type": "markdown",
   "id": "82858486",
   "metadata": {},
   "source": [
    "## llistes y estilos"
   ]
  },
  {
   "cell_type": "markdown",
   "id": "ebbf66e4",
   "metadata": {},
   "source": [
    "- Hello Jupyter\n",
    "- *Hello Jupyter*\n",
    "- ~~Hello Jupyter~~\n",
    "- **Hello jupyter**"
   ]
  },
  {
   "cell_type": "markdown",
   "id": "06017f90",
   "metadata": {},
   "source": [
    "## aqui podemos ver un calculo de restar , sumar , division y multiplicar."
   ]
  },
  {
   "cell_type": "code",
   "execution_count": 8,
   "id": "fb543391",
   "metadata": {},
   "outputs": [
    {
     "name": "stdout",
     "output_type": "stream",
     "text": [
      "19.350877192982455\n"
     ]
    }
   ],
   "source": [
    "a = 16\n",
    "b = 29\n",
    "c = 34\n",
    "d = 43\n",
    "e = 57\n",
    "\n",
    "print(a + b - c * d / e)\n",
    "\n"
   ]
  },
  {
   "cell_type": "markdown",
   "id": "c64fe753",
   "metadata": {},
   "source": [
    "![alt text](6a83ef2e296c03301490fb1c9731ffb1.jpg)\n"
   ]
  }
 ],
 "metadata": {
  "kernelspec": {
   "display_name": "Python 3",
   "language": "python",
   "name": "python3"
  },
  "language_info": {
   "codemirror_mode": {
    "name": "ipython",
    "version": 3
   },
   "file_extension": ".py",
   "mimetype": "text/x-python",
   "name": "python",
   "nbconvert_exporter": "python",
   "pygments_lexer": "ipython3",
   "version": "3.12.6"
  }
 },
 "nbformat": 4,
 "nbformat_minor": 5
}
